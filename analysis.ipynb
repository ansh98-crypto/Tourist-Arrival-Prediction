{
 "cells": [
  {
   "cell_type": "code",
   "execution_count": 4,
   "metadata": {},
   "outputs": [
    {
     "data": {
      "text/plain": [
       "id                      0\n",
       "date                    0\n",
       "tourist_area            0\n",
       "spot_facility           0\n",
       "tourist_arrivals        0\n",
       "area                    0\n",
       "city                    0\n",
       "type                    0\n",
       "category                0\n",
       "tourism_index        3992\n",
       "info                    0\n",
       "event                   0\n",
       "weather_index       41040\n",
       "dtype: int64"
      ]
     },
     "execution_count": 4,
     "metadata": {},
     "output_type": "execute_result"
    }
   ],
   "source": [
    "import pandas as pd\n",
    "import matplotlib.pyplot as plt\n",
    "import numpy as np\n",
    "import seaborn as sns\n",
    "df = pd.read_csv(\"train_df.csv\")\n",
    "y = df.loc[:,'tourist_arrivals']\n",
    "train_df = df\n",
    "train_df = train_df.drop(['tourist_arrivals', 'id'],axis=1)\n",
    "df.head(30)\n",
    "df.isna().sum()"
   ]
  },
  {
   "cell_type": "code",
   "execution_count": 5,
   "metadata": {},
   "outputs": [
    {
     "data": {
      "text/html": [
       "<div>\n",
       "<style scoped>\n",
       "    .dataframe tbody tr th:only-of-type {\n",
       "        vertical-align: middle;\n",
       "    }\n",
       "\n",
       "    .dataframe tbody tr th {\n",
       "        vertical-align: top;\n",
       "    }\n",
       "\n",
       "    .dataframe thead th {\n",
       "        text-align: right;\n",
       "    }\n",
       "</style>\n",
       "<table border=\"1\" class=\"dataframe\">\n",
       "  <thead>\n",
       "    <tr style=\"text-align: right;\">\n",
       "      <th></th>\n",
       "      <th>id</th>\n",
       "      <th>date</th>\n",
       "      <th>tourist_area</th>\n",
       "      <th>spot_facility</th>\n",
       "      <th>tourist_arrivals</th>\n",
       "      <th>area</th>\n",
       "      <th>city</th>\n",
       "      <th>type</th>\n",
       "      <th>category</th>\n",
       "      <th>tourism_index</th>\n",
       "      <th>info</th>\n",
       "      <th>event</th>\n",
       "      <th>weather_index</th>\n",
       "    </tr>\n",
       "  </thead>\n",
       "  <tbody>\n",
       "    <tr>\n",
       "      <th>0</th>\n",
       "      <td>0</td>\n",
       "      <td>2018/8/1</td>\n",
       "      <td>1</td>\n",
       "      <td>A</td>\n",
       "      <td>454</td>\n",
       "      <td>A</td>\n",
       "      <td>A</td>\n",
       "      <td>A</td>\n",
       "      <td>13</td>\n",
       "      <td>1750.0</td>\n",
       "      <td>A</td>\n",
       "      <td>A</td>\n",
       "      <td>40.05</td>\n",
       "    </tr>\n",
       "    <tr>\n",
       "      <th>1</th>\n",
       "      <td>1</td>\n",
       "      <td>2018/8/1</td>\n",
       "      <td>1</td>\n",
       "      <td>B</td>\n",
       "      <td>823</td>\n",
       "      <td>A</td>\n",
       "      <td>A</td>\n",
       "      <td>A</td>\n",
       "      <td>13</td>\n",
       "      <td>1750.0</td>\n",
       "      <td>A</td>\n",
       "      <td>A</td>\n",
       "      <td>40.05</td>\n",
       "    </tr>\n",
       "    <tr>\n",
       "      <th>2</th>\n",
       "      <td>2</td>\n",
       "      <td>2018/8/1</td>\n",
       "      <td>1</td>\n",
       "      <td>C</td>\n",
       "      <td>149</td>\n",
       "      <td>A</td>\n",
       "      <td>A</td>\n",
       "      <td>A</td>\n",
       "      <td>13</td>\n",
       "      <td>1750.0</td>\n",
       "      <td>A</td>\n",
       "      <td>A</td>\n",
       "      <td>40.05</td>\n",
       "    </tr>\n",
       "    <tr>\n",
       "      <th>3</th>\n",
       "      <td>3</td>\n",
       "      <td>2018/8/1</td>\n",
       "      <td>1</td>\n",
       "      <td>D</td>\n",
       "      <td>157</td>\n",
       "      <td>A</td>\n",
       "      <td>A</td>\n",
       "      <td>A</td>\n",
       "      <td>13</td>\n",
       "      <td>1750.0</td>\n",
       "      <td>A</td>\n",
       "      <td>A</td>\n",
       "      <td>40.05</td>\n",
       "    </tr>\n",
       "    <tr>\n",
       "      <th>4</th>\n",
       "      <td>4</td>\n",
       "      <td>2018/8/1</td>\n",
       "      <td>1</td>\n",
       "      <td>E</td>\n",
       "      <td>14</td>\n",
       "      <td>A</td>\n",
       "      <td>A</td>\n",
       "      <td>A</td>\n",
       "      <td>13</td>\n",
       "      <td>1750.0</td>\n",
       "      <td>A</td>\n",
       "      <td>A</td>\n",
       "      <td>40.05</td>\n",
       "    </tr>\n",
       "  </tbody>\n",
       "</table>\n",
       "</div>"
      ],
      "text/plain": [
       "   id      date  tourist_area spot_facility  tourist_arrivals area city type  \\\n",
       "0   0  2018/8/1             1             A               454    A    A    A   \n",
       "1   1  2018/8/1             1             B               823    A    A    A   \n",
       "2   2  2018/8/1             1             C               149    A    A    A   \n",
       "3   3  2018/8/1             1             D               157    A    A    A   \n",
       "4   4  2018/8/1             1             E                14    A    A    A   \n",
       "\n",
       "   category  tourism_index info event  weather_index  \n",
       "0        13         1750.0    A     A          40.05  \n",
       "1        13         1750.0    A     A          40.05  \n",
       "2        13         1750.0    A     A          40.05  \n",
       "3        13         1750.0    A     A          40.05  \n",
       "4        13         1750.0    A     A          40.05  "
      ]
     },
     "execution_count": 5,
     "metadata": {},
     "output_type": "execute_result"
    }
   ],
   "source": [
    "df.head(5)"
   ]
  },
  {
   "cell_type": "code",
   "execution_count": 6,
   "metadata": {},
   "outputs": [
    {
     "data": {
      "image/png": "[encoded data removed]",
      "text/plain": [
       "<Figure size 432x288 with 1 Axes>"
      ]
     },
     "metadata": {
      "needs_background": "light"
     },
     "output_type": "display_data"
    },
    {
     "data": {
      "image/png": "[encoded data removed]",
      "text/plain": [
       "<Figure size 432x288 with 1 Axes>"
      ]
     },
     "metadata": {
      "needs_background": "light"
     },
     "output_type": "display_data"
    },
    {
     "data": {
      "image/png": "[encoded data removed]",
      "text/plain": [
       "<Figure size 432x288 with 1 Axes>"
      ]
     },
     "metadata": {
      "needs_background": "light"
     },
     "output_type": "display_data"
    },
    {
     "data": {
      "image/png": "[encoded data removed]",
      "text/plain": [
       "<Figure size 432x288 with 1 Axes>"
      ]
     },
     "metadata": {
      "needs_background": "light"
     },
     "output_type": "display_data"
    },
    {
     "data": {
      "image/png": "[encoded data removed]",
      "text/plain": [
       "<Figure size 432x288 with 1 Axes>"
      ]
     },
     "metadata": {
      "needs_background": "light"
     },
     "output_type": "display_data"
    },
    {
     "data": {
      "image/png": "[encoded data removed]",
      "text/plain": [
       "<Figure size 432x288 with 1 Axes>"
      ]
     },
     "metadata": {
      "needs_background": "light"
     },
     "output_type": "display_data"
    },
    {
     "data": {
      "image/png": "[encoded data removed]",
      "text/plain": [
       "<Figure size 432x288 with 1 Axes>"
      ]
     },
     "metadata": {
      "needs_background": "light"
     },
     "output_type": "display_data"
    },
    {
     "data": {
      "image/png": "[encoded data removed]",
      "text/plain": [
       "<Figure size 432x288 with 1 Axes>"
      ]
     },
     "metadata": {
      "needs_background": "light"
     },
     "output_type": "display_data"
    },
    {
     "data": {
      "image/png": "[encoded data removed]",
      "text/plain": [
       "<Figure size 432x288 with 1 Axes>"
      ]
     },
     "metadata": {
      "needs_background": "light"
     },
     "output_type": "display_data"
    }
   ],
   "source": [
    "#print(df.area.value_counts())\n",
    "def month_split(dp):\n",
    "    return int(dp.split('/')[1])\n",
    "def weather_split(dp):\n",
    "    if dp < 40:\n",
    "        a = '35-40'\n",
    "    elif dp < 45:\n",
    "        a = '40-45'\n",
    "    elif dp < 50:\n",
    "        a = '45-50'\n",
    "    else:\n",
    "        a = '50-55'\n",
    "    return a\n",
    "m = df['date'].apply(month_split)\n",
    "df.loc[:,\"month\"] = m\n",
    "w = df['weather_index'].apply(weather_split)\n",
    "df.loc[:,\"weather_intervals\"] = w\n",
    "list_ = ['month', 'tourist_area', 'spot_facility', 'area', 'city', 'type', 'tourism_index', 'event', 'weather_intervals']\n",
    "df2 = df#df[df.tourist_arrivals>1000]\n",
    "for dp in list_:\n",
    "    b = df2.groupby(f'{dp}').median().sort_values(by = [f'{dp}'], ascending=True)\n",
    "    plt.xlabel(f'{dp}')\n",
    "    plt.ylabel('Tourist Arrivals')\n",
    "    plt.bar(b.index, b['tourist_arrivals'])\n",
    "    plt.grid(True)\n",
    "    plt.show()"
   ]
  },
  {
   "cell_type": "code",
   "execution_count": 7,
   "metadata": {},
   "outputs": [
    {
     "data": {
      "image/png": "[encoded data removed]",
      "text/plain": [
       "<Figure size 432x288 with 1 Axes>"
      ]
     },
     "metadata": {
      "needs_background": "light"
     },
     "output_type": "display_data"
    }
   ],
   "source": [
    "#print(df.area.value_counts())\n",
    "def month_split(dp):\n",
    "    return int(dp.split('/')[1])\n",
    "def weather_split(dp):\n",
    "    if dp < 40:\n",
    "        a = 1#'35-40'\n",
    "    elif dp < 45:\n",
    "        a = 2#'40-45'\n",
    "    elif dp < 50:\n",
    "        a = 3#'45-50'\n",
    "    elif dp <60:\n",
    "        a = 4#'50-55'\n",
    "    else:\n",
    "        a = 2\n",
    "    return a\n",
    "m = df['date'].apply(month_split)\n",
    "df.loc[:,\"month\"] = m\n",
    "w = df['weather_index'].apply(weather_split)\n",
    "df.loc[:,\"weather_intervals\"] = w\n",
    "df.drop([\"weather_index\"], axis=1, inplace=True)\n",
    "list_ = ['month', 'tourist_area', 'spot_facility', 'area', 'city', 'type', 'tourism_index', 'event', 'weather_intervals']\n",
    "df2 = df#df[df.tourist_arrivals>1000]\n",
    "for dp in list_:\n",
    "    b = df2.groupby(f'{dp}')['tourist_arrivals'].sum().sort_values(ascending=True)\n",
    "    plt.xlabel(f'{dp}')\n",
    "    plt.ylabel('Tourist Arrivals')\n",
    "    plt.bar(b.index, b.values/1000)\n",
    "    plt.grid(True)\n",
    "    #plt.show()\n"
   ]
  },
  {
   "cell_type": "code",
   "execution_count": 8,
   "metadata": {},
   "outputs": [
    {
     "data": {
      "image/png": "[encoded data removed]",
      "text/plain": [
       "<Figure size 432x288 with 1 Axes>"
      ]
     },
     "metadata": {
      "needs_background": "light"
     },
     "output_type": "display_data"
    },
    {
     "data": {
      "text/plain": [
       "45893719"
      ]
     },
     "execution_count": 8,
     "metadata": {},
     "output_type": "execute_result"
    }
   ],
   "source": [
    "b = df2.groupby('weather_intervals')['tourist_arrivals'].sum().sort_values(ascending=True)\n",
    "plt.xlabel('event')#\n",
    "plt.ylabel('Tourist Arrivals')\n",
    "plt.bar(b.index, b.values/1000)\n",
    "plt.grid(True)\n",
    "plt.show()\n",
    "b.sum()"
   ]
  },
  {
   "cell_type": "code",
   "execution_count": 9,
   "metadata": {},
   "outputs": [
    {
     "data": {
      "text/html": [
       "<div>\n",
       "<style scoped>\n",
       "    .dataframe tbody tr th:only-of-type {\n",
       "        vertical-align: middle;\n",
       "    }\n",
       "\n",
       "    .dataframe tbody tr th {\n",
       "        vertical-align: top;\n",
       "    }\n",
       "\n",
       "    .dataframe thead th {\n",
       "        text-align: right;\n",
       "    }\n",
       "</style>\n",
       "<table border=\"1\" class=\"dataframe\">\n",
       "  <thead>\n",
       "    <tr style=\"text-align: right;\">\n",
       "      <th></th>\n",
       "      <th>id</th>\n",
       "      <th>tourist_area</th>\n",
       "      <th>tourist_arrivals</th>\n",
       "      <th>category</th>\n",
       "      <th>tourism_index</th>\n",
       "      <th>month</th>\n",
       "      <th>weather_intervals</th>\n",
       "    </tr>\n",
       "  </thead>\n",
       "  <tbody>\n",
       "    <tr>\n",
       "      <th>tourist_arrivals</th>\n",
       "      <td>0.02775</td>\n",
       "      <td>0.1129</td>\n",
       "      <td>1.0</td>\n",
       "      <td>0.082123</td>\n",
       "      <td>0.519752</td>\n",
       "      <td>-0.005725</td>\n",
       "      <td>-0.069721</td>\n",
       "    </tr>\n",
       "  </tbody>\n",
       "</table>\n",
       "</div>"
      ],
      "text/plain": [
       "                       id  tourist_area  tourist_arrivals  category  \\\n",
       "tourist_arrivals  0.02775        0.1129               1.0  0.082123   \n",
       "\n",
       "                  tourism_index     month  weather_intervals  \n",
       "tourist_arrivals       0.519752 -0.005725          -0.069721  "
      ]
     },
     "execution_count": 9,
     "metadata": {},
     "output_type": "execute_result"
    },
    {
     "data": {
      "image/png": "[encoded data removed]",
      "text/plain": [
       "<Figure size 781.625x720 with 1 Axes>"
      ]
     },
     "metadata": {
      "needs_background": "light"
     },
     "output_type": "display_data"
    }
   ],
   "source": [
    "#display(df)\n",
    "heat_array = df.corr(method='spearman').values\n",
    "cols = df.corr().columns\n",
    "# plt.figure(figsize=(12,8))\n",
    "# plt.imshow(heat_array, cmap='coolwarm', vmin=-1, vmax = 1, aspect='auto', origin='upper')\n",
    "# cbar = plt.colorbar()\n",
    "# cbar.set_label('Correlation', rotation = 270)\n",
    "# plt.xticks(range(len(heat_array)), labels=cols)\n",
    "# plt.yticks(range(len(heat_array)), labels=cols)\n",
    "# plt.show()\n",
    "#sns.relplot(df)\n",
    "\n",
    "corr = df.corr(method=\"spearman\").stack().reset_index(name=\"correlation\")\n",
    "g = sns.relplot(corr,  x=\"level_0\", y=\"level_1\", hue=\"correlation\", size=\"correlation\",\n",
    "    palette=\"vlag\", hue_norm=(-1, 1), edgecolor=\".7\",\n",
    "    height=10, sizes=(50, 250), size_norm=(-.2, .8),)\n",
    "\n",
    "# Tweak the figure to finalize\n",
    "g.set(xlabel=\"\", ylabel=\"\", aspect=\"equal\")\n",
    "g.despine(left=True, bottom=True)\n",
    "g.ax.margins(.02)\n",
    "for label in g.ax.get_xticklabels():\n",
    "    label.set_rotation(90)\n",
    "\n",
    "df.corr()[df.corr().index=='tourist_arrivals']"
   ]
  },
  {
   "cell_type": "code",
   "execution_count": 10,
   "metadata": {},
   "outputs": [
    {
     "data": {
      "image/png": "[encoded data removed]",
      "text/plain": [
       "<Figure size 432x288 with 1 Axes>"
      ]
     },
     "metadata": {
      "needs_background": "light"
     },
     "output_type": "display_data"
    },
    {
     "data": {
      "text/plain": [
       "554     85\n",
       "529     84\n",
       "558     82\n",
       "524     82\n",
       "579     80\n",
       "        ..\n",
       "2182     1\n",
       "4301     1\n",
       "3736     1\n",
       "3200     1\n",
       "1658     1\n",
       "Name: tourist_arrivals, Length: 2570, dtype: int64"
      ]
     },
     "metadata": {},
     "output_type": "display_data"
    }
   ],
   "source": [
    "plt.xlabel('Tourist Arrivals')\n",
    "plt.ylabel('Frequency')\n",
    "bin_ranges = [500,1000,1500,2000,2500,3000,3500,4000]\n",
    "plt.hist(df['tourist_arrivals'], bins = bin_ranges,alpha = 0.7)\n",
    "plt.grid(True)\n",
    "plt.show()\n",
    "display(df.tourist_arrivals[df.tourist_arrivals>500].value_counts())"
   ]
  },
  {
   "cell_type": "code",
   "execution_count": 11,
   "metadata": {},
   "outputs": [
    {
     "data": {
      "text/html": [
       "<div>\n",
       "<style scoped>\n",
       "    .dataframe tbody tr th:only-of-type {\n",
       "        vertical-align: middle;\n",
       "    }\n",
       "\n",
       "    .dataframe tbody tr th {\n",
       "        vertical-align: top;\n",
       "    }\n",
       "\n",
       "    .dataframe thead th {\n",
       "        text-align: right;\n",
       "    }\n",
       "</style>\n",
       "<table border=\"1\" class=\"dataframe\">\n",
       "  <thead>\n",
       "    <tr style=\"text-align: right;\">\n",
       "      <th></th>\n",
       "      <th>A_1</th>\n",
       "      <th>A_2</th>\n",
       "      <th>A_3</th>\n",
       "      <th>A_4</th>\n",
       "      <th>B_AX</th>\n",
       "      <th>B_BY</th>\n",
       "      <th>B_X</th>\n",
       "      <th>B_Y</th>\n",
       "    </tr>\n",
       "  </thead>\n",
       "  <tbody>\n",
       "    <tr>\n",
       "      <th>0</th>\n",
       "      <td>1.0</td>\n",
       "      <td>0.0</td>\n",
       "      <td>0.0</td>\n",
       "      <td>0.0</td>\n",
       "      <td>0.0</td>\n",
       "      <td>0.0</td>\n",
       "      <td>1.0</td>\n",
       "      <td>0.0</td>\n",
       "    </tr>\n",
       "    <tr>\n",
       "      <th>1</th>\n",
       "      <td>0.0</td>\n",
       "      <td>1.0</td>\n",
       "      <td>0.0</td>\n",
       "      <td>0.0</td>\n",
       "      <td>0.0</td>\n",
       "      <td>0.0</td>\n",
       "      <td>0.0</td>\n",
       "      <td>1.0</td>\n",
       "    </tr>\n",
       "    <tr>\n",
       "      <th>2</th>\n",
       "      <td>1.0</td>\n",
       "      <td>0.0</td>\n",
       "      <td>0.0</td>\n",
       "      <td>0.0</td>\n",
       "      <td>0.0</td>\n",
       "      <td>0.0</td>\n",
       "      <td>0.0</td>\n",
       "      <td>1.0</td>\n",
       "    </tr>\n",
       "    <tr>\n",
       "      <th>3</th>\n",
       "      <td>0.0</td>\n",
       "      <td>1.0</td>\n",
       "      <td>0.0</td>\n",
       "      <td>0.0</td>\n",
       "      <td>0.0</td>\n",
       "      <td>0.0</td>\n",
       "      <td>1.0</td>\n",
       "      <td>0.0</td>\n",
       "    </tr>\n",
       "  </tbody>\n",
       "</table>\n",
       "</div>"
      ],
      "text/plain": [
       "   A_1  A_2  A_3  A_4  B_AX  B_BY  B_X  B_Y\n",
       "0  1.0  0.0  0.0  0.0   0.0   0.0  1.0  0.0\n",
       "1  0.0  1.0  0.0  0.0   0.0   0.0  0.0  1.0\n",
       "2  1.0  0.0  0.0  0.0   0.0   0.0  0.0  1.0\n",
       "3  0.0  1.0  0.0  0.0   0.0   0.0  1.0  0.0"
      ]
     },
     "execution_count": 11,
     "metadata": {},
     "output_type": "execute_result"
    }
   ],
   "source": [
    "from sklearn.preprocessing import OneHotEncoder\n",
    "\n",
    "dummy = pd.DataFrame({\"A\":[1,2,3,4], \"B\":[\"Y\",\"X\",\"AX\",\"BY\"]})\n",
    "dummy2= pd.DataFrame({\"A\":[1,2,1,2], \"B\":[\"X\",\"Y\", \"Y\",\"X\"]})\n",
    "enc = OneHotEncoder()\n",
    "# Passing encoded columns\n",
    "enc.fit(dummy)\n",
    "enc_data = pd.DataFrame(enc.transform(dummy2).toarray(), columns = enc.get_feature_names_out()) \n",
    "enc_data"
   ]
  },
  {
   "cell_type": "code",
   "execution_count": null,
   "metadata": {},
   "outputs": [],
   "source": [
    "from tensorflow import keras\n",
    "from tensorflow.keras import layers\n",
    "#FINAL MODEL 1\n",
    "\n",
    "from sklearn.ensemble import RandomForestRegressor\n",
    "from sklearn.ensemble import RandomForestRegressor, AdaBoostClassifier\n",
    "from sklearn.metrics import accuracy_score, confusion_matrix, precision_score, recall_score, ConfusionMatrixDisplay\n",
    "from sklearn.model_selection import RandomizedSearchCV, train_test_split\n",
    "from sklearn import metrics\n",
    "from sklearn.preprocessing import MinMaxScaler\n",
    "from sklearn.metrics import mean_squared_error, mean_absolute_error, r2_score\n",
    "from sklearn.linear_model import LinearRegression\n",
    "from sklearn.ensemble import GradientBoostingRegressor\n",
    "from sklearn.preprocessing import PolynomialFeatures\n",
    "from sklearn.svm import SVR\n",
    "\n",
    "\n",
    "name_df = df2\n",
    "\n",
    "df3 = name_df.dropna()\n",
    "\n",
    "\n",
    "y = df3.loc[:,\"tourist_arrivals\"]\n",
    "\n",
    "df3 = df3.drop(['id', 'date', \"tourist_arrivals\", \"weather_intervals\"], axis=1)\n",
    "\n",
    "base_df = df3\n",
    "\n",
    "# One hot encoding\n",
    "columns_to_encode = [\"spot_facility\",\"area\", \"city\",\"type\", \"info\", \"event\",\"category\", \"month\"]\n",
    "enc = OneHotEncoder(handle_unknown=\"ignore\",sparse=False)\n",
    "enc.fit(df3.loc[:,columns_to_encode])\n",
    "train_encoded = pd.DataFrame(enc.transform( \n",
    "    df3.loc[:,columns_to_encode]), columns=enc.get_feature_names_out()) \n",
    "df3 = df3.drop(columns_to_encode, axis=1)\n",
    "df_concat_train = pd.concat([df3.reset_index(drop=True),train_encoded.reset_index(drop=True)], axis=1)\n",
    "\n",
    "#Train\n",
    "df_concat_train = np.array(df_concat_train)\n",
    "y = np.array(y)\n",
    "x_train, x_test, y_train, y_test = train_test_split(df_concat_train, y, test_size=0.25, random_state=1)\n",
    "\n",
    "\n",
    "# Define the number of input features\n",
    "num_features = 91\n",
    "\n",
    "# Define the model input\n",
    "inputs = keras.Input(shape=(num_features,))\n",
    "\n",
    "# Add hidden layers with ReLU activation\n",
    "x = layers.Dense(256, activation=\"relu\")(inputs)\n",
    "x = layers.Dense(128, activation=\"relu\")(x)\n",
    "x = layers.Dense(64, activation=\"relu\")(x)\n",
    "x = layers.Dense(32, activation=\"relu\")(x)\n",
    "# Add output layer\n",
    "outputs = layers.Dense(1)(x)\n",
    "\n",
    "# Define the model\n",
    "nnt= keras.Model(inputs=inputs, outputs=outputs)\n",
    "\n",
    "# Compile the model\n",
    "nnt.compile(loss=\"mse\", optimizer=\"adam\", metrics=[\"mae\"])\n",
    "nnt.fit(x_train, y_train, epochs=250)"
   ]
  },
  {
   "cell_type": "code",
   "execution_count": 52,
   "metadata": {},
   "outputs": [
    {
     "name": "stderr",
     "output_type": "stream",
     "text": [
      "c:\\Users\\ansht\\AppData\\Local\\Programs\\Python\\Python39\\lib\\site-packages\\sklearn\\preprocessing\\_encoders.py:972: FutureWarning: `sparse` was renamed to `sparse_output` in version 1.2 and will be removed in 1.4. `sparse_output` is ignored unless you leave `sparse` to its default value.\n",
      "  warnings.warn(\n"
     ]
    },
    {
     "name": "stdout",
     "output_type": "stream",
     "text": [
      "Mean Squared Error: 12455.10\n",
      "Mean Absolute Error: 57.85\n",
      "R2 Score: 0.94\n",
      "\n",
      "\n",
      "\n"
     ]
    }
   ],
   "source": [
    "from sklearn.model_selection import RandomizedSearchCV as RSCV\n",
    "from sklearn.ensemble import RandomForestRegressor\n",
    "from sklearn.ensemble import RandomForestRegressor, AdaBoostClassifier\n",
    "from sklearn.metrics import accuracy_score, confusion_matrix, precision_score, recall_score, ConfusionMatrixDisplay\n",
    "from sklearn.model_selection import RandomizedSearchCV, train_test_split\n",
    "from sklearn import metrics\n",
    "from sklearn.preprocessing import MinMaxScaler\n",
    "from sklearn.metrics import mean_squared_error, mean_absolute_error, r2_score\n",
    "from sklearn.linear_model import LinearRegression\n",
    "from sklearn.ensemble import GradientBoostingRegressor\n",
    "from sklearn.preprocessing import PolynomialFeatures\n",
    "from sklearn.svm import SVR\n",
    "\n",
    "\n",
    "name_df = df2\n",
    "\n",
    "df3 = name_df.dropna()\n",
    "\n",
    "\n",
    "y = df3.loc[:,\"tourist_arrivals\"]\n",
    "\n",
    "df3 = df3.drop(['id', 'date', \"tourist_arrivals\", \"weather_intervals\"], axis=1)\n",
    "\n",
    "\n",
    "#Standardization\n",
    "# scaler2 = MinMaxScaler()\n",
    "# d = np.reshape(np.array(df3.tourism_index),(len(df3),1))\n",
    "# d = scaler2.fit_transform(d)\n",
    "# df3 = df3.drop([\"tourism_index\"], axis=1)\n",
    "# df3.loc[:,\"tourim_index\"] = d\n",
    "\n",
    "\n",
    "base_df = df3\n",
    "\n",
    "# One hot encoding\n",
    "columns_to_encode = [\"spot_facility\",\"area\", \"city\",\"type\", \"info\", \"event\",\"category\", \"month\"]\n",
    "enc = OneHotEncoder(handle_unknown=\"ignore\",sparse=False)\n",
    "enc.fit(df3.loc[:,columns_to_encode])\n",
    "train_encoded = pd.DataFrame(enc.transform( \n",
    "    df3.loc[:,columns_to_encode]), columns=enc.get_feature_names_out()) \n",
    "df3 = df3.drop(columns_to_encode, axis=1)\n",
    "df_concat_train = pd.concat([df3.reset_index(drop=True),train_encoded.reset_index(drop=True)], axis=1)\n",
    "\n",
    "#Train\n",
    "df_concat_train = np.array(df_concat_train)\n",
    "y = np.array(y)\n",
    "x_train, x_test, y_train, y_test = train_test_split(df_concat_train, y, test_size=0.25, random_state=1)\n",
    "\n",
    "\n",
    "\n",
    "\n",
    "param_grid = {\n",
    "            'max_features':np.arange(0.1, 1, 0.1),\n",
    "            'max_depth': [3, 5, 7, 9]\n",
    "            }#'max_samples': [0.3, 0.5, 0.8]\n",
    "\n",
    "#model = RSCV(RandomForestRegressor(n_estimators=170), param_grid, n_iter = 15, verbose=1).fit(x_train, y_train)\n",
    "#model = model.best_estimator_\n",
    "rf = RandomForestRegressor(n_estimators=170, max_features=0.8).fit(x_train, y_train)#,max_depth=9, max_features=0.5\n",
    "\n",
    "y_pred = rf.predict(x_test)\n",
    "#print(f\"Metrics for Model {str(model).split('(')[0]}:\")\n",
    "mse = mean_squared_error(y_test, y_pred)\n",
    "print(f\"Mean Squared Error: {mse:.2f}\")\n",
    "\n",
    "mae = mean_absolute_error(y_test, y_pred)\n",
    "print(f\"Mean Absolute Error: {mae:.2f}\")\n",
    "\n",
    "r2 = r2_score(y_test, y_pred)\n",
    "print(f\"R2 Score: {r2:.2f}\")\n",
    "\n",
    "print(\"\\n\\n\")"
   ]
  },
  {
   "cell_type": "code",
   "execution_count": 31,
   "metadata": {},
   "outputs": [
    {
     "name": "stderr",
     "output_type": "stream",
     "text": [
      "c:\\Users\\ansht\\AppData\\Local\\Programs\\Python\\Python39\\lib\\site-packages\\sklearn\\preprocessing\\_encoders.py:972: FutureWarning: `sparse` was renamed to `sparse_output` in version 1.2 and will be removed in 1.4. `sparse_output` is ignored unless you leave `sparse` to its default value.\n",
      "  warnings.warn(\n"
     ]
    },
    {
     "name": "stdout",
     "output_type": "stream",
     "text": [
      "Metrics for Model RandomForestRegressor:\n",
      "Mean Squared Error: 12444.21\n",
      "Mean Absolute Error: 57.98\n",
      "R2 Score: 0.94\n",
      "\n",
      "\n",
      "\n"
     ]
    }
   ],
   "source": [
    "#FINAL MODEL 1\n",
    "\n",
    "from sklearn.ensemble import RandomForestRegressor\n",
    "from sklearn.ensemble import RandomForestRegressor, AdaBoostClassifier\n",
    "from sklearn.metrics import accuracy_score, confusion_matrix, precision_score, recall_score, ConfusionMatrixDisplay\n",
    "from sklearn.model_selection import RandomizedSearchCV, train_test_split\n",
    "from sklearn import metrics\n",
    "from sklearn.preprocessing import MinMaxScaler\n",
    "from sklearn.metrics import mean_squared_error, mean_absolute_error, r2_score\n",
    "from sklearn.linear_model import LinearRegression\n",
    "from sklearn.ensemble import GradientBoostingRegressor\n",
    "from sklearn.preprocessing import PolynomialFeatures\n",
    "from sklearn.svm import SVR\n",
    "\n",
    "\n",
    "name_df = df2\n",
    "\n",
    "df3 = name_df.dropna()\n",
    "\n",
    "\n",
    "y = df3.loc[:,\"tourist_arrivals\"]\n",
    "\n",
    "df3 = df3.drop(['id', 'date', \"tourist_arrivals\", \"weather_intervals\"], axis=1)\n",
    "\n",
    "\n",
    "#Standardization\n",
    "# scaler2 = MinMaxScaler()\n",
    "# d = np.reshape(np.array(df3.tourism_index),(len(df3),1))\n",
    "# d = scaler2.fit_transform(d)\n",
    "# df3 = df3.drop([\"tourism_index\"], axis=1)\n",
    "# df3.loc[:,\"tourim_index\"] = d\n",
    "\n",
    "\n",
    "base_df = df3\n",
    "\n",
    "# One hot encoding\n",
    "columns_to_encode = [\"spot_facility\",\"area\", \"city\",\"type\", \"info\", \"event\",\"category\", \"month\"]\n",
    "enc = OneHotEncoder(handle_unknown=\"ignore\",sparse=False)\n",
    "enc.fit(df3.loc[:,columns_to_encode])\n",
    "train_encoded = pd.DataFrame(enc.transform( \n",
    "    df3.loc[:,columns_to_encode]), columns=enc.get_feature_names_out()) \n",
    "df3 = df3.drop(columns_to_encode, axis=1)\n",
    "df_concat_train = pd.concat([df3.reset_index(drop=True),train_encoded.reset_index(drop=True)], axis=1)\n",
    "\n",
    "#Train\n",
    "df_concat_train = np.array(df_concat_train)\n",
    "y = np.array(y)\n",
    "x_train, x_test, y_train, y_test = train_test_split(df_concat_train, y, test_size=0.25, random_state=1)\n",
    "\n",
    "\n",
    "\n",
    "\n",
    "models = [RandomForestRegressor(n_estimators=170), RandomForestRegressor(n_estimators=170)] #GradientBoostingRegressor(), n=170\n",
    "\n",
    "for model in models:\n",
    "    rf = model.fit(x_train, y_train)#RandomForestRegressor()\n",
    "    y_pred = rf.predict(x_test)\n",
    "    print(f\"Metrics for Model {str(model).split('(')[0]}:\")\n",
    "    mse = mean_squared_error(y_test, y_pred)\n",
    "    print(f\"Mean Squared Error: {mse:.2f}\")\n",
    "\n",
    "    mae = mean_absolute_error(y_test, y_pred)\n",
    "    print(f\"Mean Absolute Error: {mae:.2f}\")\n",
    "\n",
    "    r2 = r2_score(y_test, y_pred)\n",
    "    print(f\"R2 Score: {r2:.2f}\")\n",
    "\n",
    "    print(\"\\n\\n\")\n"
   ]
  },
  {
   "cell_type": "code",
   "execution_count": 46,
   "metadata": {},
   "outputs": [
    {
     "name": "stdout",
     "output_type": "stream",
     "text": [
      "Metrics for Model RandomForestRegressor:\n",
      "Mean Squared Error: 16868.92\n",
      "Mean Absolute Error: 76.69\n",
      "R2 Score: 0.92\n",
      "\n",
      "\n",
      "\n"
     ]
    }
   ],
   "source": [
    "rf=model\n",
    "rf\n",
    "y_pred = rf.predict(x_test)\n",
    "print(f\"Metrics for Model {str(model).split('(')[0]}:\")\n",
    "mse = mean_squared_error(y_test, y_pred)\n",
    "print(f\"Mean Squared Error: {mse:.2f}\")\n",
    "\n",
    "mae = mean_absolute_error(y_test, y_pred)\n",
    "print(f\"Mean Absolute Error: {mae:.2f}\")\n",
    "\n",
    "r2 = r2_score(y_test, y_pred)\n",
    "print(f\"R2 Score: {r2:.2f}\")\n",
    "\n",
    "print(\"\\n\\n\")"
   ]
  },
  {
   "cell_type": "code",
   "execution_count": 36,
   "metadata": {},
   "outputs": [],
   "source": [
    "#Test Data\n",
    "\n",
    "df_test = pd.read_csv(\"test_df.csv\")\n",
    "a = df_test.loc[:,\"date\"] = pd.DatetimeIndex(df_test.loc[:,\"date\"]).month\n",
    "df_test = df_test.drop([\"id\",\"date\", \"weather_index\"], axis=1)\n",
    "df_test.loc[:,\"month\"] = a\n",
    "name_df = df_test\n",
    "\n",
    "df4 = name_df\n",
    "#Standardization\n",
    "# scaler2 = MinMaxScaler()\n",
    "# d = np.reshape(np.array(df4.tourism_index),(len(df4),1))\n",
    "# d = scaler2.fit_transform(d)\n",
    "# df4 = df4.drop([\"tourism_index\"], axis=1)\n",
    "# df4.loc[:,\"tourim_index\"] = d\n",
    "\n",
    "\n",
    "base_df = df4\n",
    "\n",
    "# One hot encoding\n",
    "columns_to_encode = [\"spot_facility\",\"area\", \"city\",\"type\", \"info\", \"event\",\"category\", \"month\"]\n",
    "test_encoded = pd.DataFrame(enc.transform( \n",
    "    df4.loc[:,columns_to_encode]), columns=enc.get_feature_names_out()) \n",
    "df4 = df4.drop(columns_to_encode, axis=1)\n",
    "df_concat_test = pd.concat([df4.reset_index(drop=True),test_encoded.reset_index(drop=True)], axis=1)\n",
    "\n",
    "#Train\n",
    "df_concat_test = np.array(df_concat_test)\n",
    "rf.predict(df_concat_test)\n",
    "pd.DataFrame({\"id\" :pd.read_csv(\"test_df.csv\")[\"id\"].values,\"tourist_arrivals\":rf.predict(df_concat_test)}).to_csv(\"results7.csv\", index=False)"
   ]
  }
 ],
 "metadata": {
  "kernelspec": {
   "display_name": "Python 3",
   "language": "python",
   "name": "python3"
  },
  "language_info": {
   "codemirror_mode": {
    "name": "ipython",
    "version": 3
   },
   "file_extension": ".py",
   "mimetype": "text/x-python",
   "name": "python",
   "nbconvert_exporter": "python",
   "pygments_lexer": "ipython3",
   "version": "3.9.7"
  }
 },
 "nbformat": 4,
 "nbformat_minor": 2
}
